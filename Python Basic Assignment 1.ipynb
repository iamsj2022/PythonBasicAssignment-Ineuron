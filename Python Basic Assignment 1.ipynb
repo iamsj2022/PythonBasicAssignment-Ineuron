{
 "cells": [
  {
   "cell_type": "markdown",
   "id": "48195e15",
   "metadata": {},
   "source": [
    "Ineuron Python FSDS Assignment 1"
   ]
  },
  {
   "cell_type": "markdown",
   "id": "64dfc73b",
   "metadata": {},
   "source": [
    "In the below elements which of them are values or an expression? eg:- values can be integer or string and expressions will be mathematical operators.\n",
    "\n",
    "Answer:\n",
    "\n",
    "* = mathematical operator\n",
    "'hello' = string\n",
    "-87.8 = float\n",
    "- = mathematical operator\n",
    "/ = mathematical operator\n",
    "+ = mathematical operator\n",
    "6 = integer"
   ]
  },
  {
   "cell_type": "markdown",
   "id": "c4bc33b7",
   "metadata": {},
   "source": [
    "What is the difference between string and variable?\n",
    "\n",
    "Answer:\n",
    "\n",
    "Variables: A variable is an identifier which is used to store a value in a memory location and to manipulate it if needed.\n",
    "\n",
    "Example: x = 10 y = 20\n",
    "\n",
    "Strings: Anything assigned to a variable using quotes (single or double) will be considered as a string.\n",
    "\n",
    "Example: a = \"1\" b = \"2\" print(a+b)\n",
    "output: '12'"
   ]
  },
  {
   "cell_type": "markdown",
   "id": "3a87570a",
   "metadata": {},
   "source": [
    "Describe three different data types.\n",
    "\n",
    "Answer: \n",
    "    \n",
    "    Variables can store data of different types, and different types can do different things.\n",
    "\n",
    "Numeric type = integer : a = 6 type(a) output: int OR float : a = 6.3 type(a) output: float\n",
    "\n",
    "Text type = string : a = \"6.3\" type(a) output: string\n",
    "\n",
    "Sequence type = list: a = [\"apple\", \"banana\", \"cherry\"] output: ['apple', 'banana', 'cherry']"
   ]
  },
  {
   "cell_type": "markdown",
   "id": "30d27046",
   "metadata": {},
   "source": [
    "4 . What is an expression made up of? What do all expressions do?\n",
    "\n",
    "Answer: An expression is a combination of values, variables, operators, and calls to functions. Expressions need to be evaluated. If we ask Python to print an expression, the interpreter evaluates the expression and displays the result.\n",
    "\n",
    "5 . This assignment statements, like spam = 10. What is the difference between an expression and a statement?\n",
    "\n",
    "Answer:\n",
    "\n",
    "An Expression always evaluates to a value whereas a statement does something, like creating a variable or displaying a value, it only does whatever the statement says. Example: spam = 10 is a statement it is allocating the value 10 ti varible spam"
   ]
  },
  {
   "cell_type": "markdown",
   "id": "4b9bb928",
   "metadata": {},
   "source": [
    "6. After running the following code, what does the variable bacon contain? bacon = 22 bacon + 1\n",
    "\n",
    "Answer:"
   ]
  },
  {
   "cell_type": "code",
   "execution_count": 2,
   "id": "94f23d5b",
   "metadata": {},
   "outputs": [
    {
     "data": {
      "text/plain": [
       "23"
      ]
     },
     "execution_count": 2,
     "metadata": {},
     "output_type": "execute_result"
    }
   ],
   "source": [
    "bacon = 22 \n",
    "bacon + 1"
   ]
  },
  {
   "cell_type": "code",
   "execution_count": 3,
   "id": "83a46f44",
   "metadata": {},
   "outputs": [
    {
     "name": "stdout",
     "output_type": "stream",
     "text": [
      "22\n"
     ]
    }
   ],
   "source": [
    "print(bacon)"
   ]
  },
  {
   "cell_type": "markdown",
   "id": "467cc529",
   "metadata": {},
   "source": [
    "In the above code the value was increased to 23 as we added 1 to the pre-existing bacon value but the original value of bacon will still be 22"
   ]
  },
  {
   "cell_type": "markdown",
   "id": "d298457d",
   "metadata": {},
   "source": [
    "7 . What should the values of the following two terms be?\n",
    "\n",
    "'spam' + 'spamspam'\n",
    "\n",
    "'spam'*3\n",
    "\n",
    "Output:"
   ]
  },
  {
   "cell_type": "code",
   "execution_count": 4,
   "id": "eaf851a8",
   "metadata": {},
   "outputs": [
    {
     "data": {
      "text/plain": [
       "'spamspamspam'"
      ]
     },
     "execution_count": 4,
     "metadata": {},
     "output_type": "execute_result"
    }
   ],
   "source": [
    "'spam' + 'spamspam'"
   ]
  },
  {
   "cell_type": "code",
   "execution_count": 5,
   "id": "3adbe7ed",
   "metadata": {},
   "outputs": [
    {
     "data": {
      "text/plain": [
       "'spamspamspam'"
      ]
     },
     "execution_count": 5,
     "metadata": {},
     "output_type": "execute_result"
    }
   ],
   "source": [
    "'spam'*3 #in both the conditions the output will remain same spam will be printed three times"
   ]
  },
  {
   "cell_type": "markdown",
   "id": "9fbef827",
   "metadata": {},
   "source": [
    "8 . Why is eggs a valid variable name while 100 is invalid?\n",
    "\n",
    "Answer: In python there are cerrtain varble rules that are needed to be followed. A variable can have a short name (like x and y) or a more descriptive name (age, carname, totalvolume). A variable name must start with a letter or the underscore character A variable name cannot start with a number A variable name can only contain alpha-numeric characters and underscores (A-z, 0-9, and ) Variable names are case-sensitive (age, Age and AGE are three different variables)\n",
    "\n",
    "Thus, eggs being written in form of letters or characters is valid while 100 being an interger is not valid.\n",
    "\n",
    "9. What three functions can be used to get the integer, floating-point number, or string version of a value?\n",
    "\n",
    "Answer: the threee functions are int(), float(), str()"
   ]
  },
  {
   "cell_type": "code",
   "execution_count": 6,
   "id": "670da1e5",
   "metadata": {},
   "outputs": [
    {
     "name": "stdout",
     "output_type": "stream",
     "text": [
      "<class 'int'>\n",
      "<class 'float'>\n",
      "<class 'str'>\n"
     ]
    }
   ],
   "source": [
    "a = int(5)\n",
    "print(type(a))\n",
    "b = float(5.5)\n",
    "print(type(b))\n",
    "c = str(\"3sj\")\n",
    "print(type(c))"
   ]
  },
  {
   "cell_type": "markdown",
   "id": "b120581d",
   "metadata": {},
   "source": [
    "10. Why does this expression cause an error? How can you fix it? 'I have eaten' + 99 + 'burritos'\n",
    "\n",
    "Answer: Because we can only concatenate str (not \"int\") to str. we can typecast like below to convert int to string."
   ]
  },
  {
   "cell_type": "code",
   "execution_count": null,
   "id": "3ced2b95",
   "metadata": {},
   "outputs": [],
   "source": []
  }
 ],
 "metadata": {
  "kernelspec": {
   "display_name": "Python 3 (ipykernel)",
   "language": "python",
   "name": "python3"
  },
  "language_info": {
   "codemirror_mode": {
    "name": "ipython",
    "version": 3
   },
   "file_extension": ".py",
   "mimetype": "text/x-python",
   "name": "python",
   "nbconvert_exporter": "python",
   "pygments_lexer": "ipython3",
   "version": "3.9.7"
  }
 },
 "nbformat": 4,
 "nbformat_minor": 5
}
