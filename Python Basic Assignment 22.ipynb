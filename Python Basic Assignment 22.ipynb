{
 "cells": [
  {
   "cell_type": "markdown",
   "id": "37553a5a",
   "metadata": {},
   "source": [
    "Ques 1. What is the result of the code, and explain?\n",
    "\n",
    "    X = 'iNeuron'\n",
    "    def func(): print(X)\n",
    "\n",
    "    func()"
   ]
  },
  {
   "cell_type": "code",
   "execution_count": 1,
   "id": "17cebee5",
   "metadata": {},
   "outputs": [
    {
     "name": "stdout",
     "output_type": "stream",
     "text": [
      "iNeuron\n"
     ]
    }
   ],
   "source": [
    "X = 'iNeuron'\n",
    "def func():\n",
    "    print(X)\n",
    "func()"
   ]
  },
  {
   "cell_type": "markdown",
   "id": "c072f20b",
   "metadata": {},
   "source": [
    "Ans. The global variables are accessible in side the functions in python. But we can not access function variable out side function. Since x is global variable we are able to print it in side the function solution : 'iNeuron'"
   ]
  },
  {
   "cell_type": "markdown",
   "id": "3e62ebc6",
   "metadata": {},
   "source": [
    "Ques 2. What is the result of the code, and explain?\n",
    "\n",
    "X = 'iNeuron'\n",
    "def func(): X = 'NI!'\n",
    "\n",
    "func()\n",
    "print(X)"
   ]
  },
  {
   "cell_type": "code",
   "execution_count": 3,
   "id": "ad164310",
   "metadata": {},
   "outputs": [
    {
     "name": "stdout",
     "output_type": "stream",
     "text": [
      "iNeuron\n"
     ]
    }
   ],
   "source": [
    "X = 'iNeuron'\n",
    "def func():\n",
    "    X = 'NI!'\n",
    "\n",
    "func()\n",
    "print(X)"
   ]
  },
  {
   "cell_type": "markdown",
   "id": "4f41a586",
   "metadata": {},
   "source": [
    "Ans. The global variables are access in side the functions in python. But we can not access function variable out side function.Since x is golbal variable we are able to print it out side of the function solution = 'iNeuron'"
   ]
  },
  {
   "cell_type": "markdown",
   "id": "8df0e7ed",
   "metadata": {},
   "source": [
    "Ques 3. What does this code print, and why?\n",
    "\n",
    "X = 'iNeuron' >>> def func(): X = 'NI' print(X)\n",
    "\n",
    "func() >>> print(X)"
   ]
  },
  {
   "cell_type": "code",
   "execution_count": 4,
   "id": "11e830a4",
   "metadata": {},
   "outputs": [
    {
     "name": "stdout",
     "output_type": "stream",
     "text": [
      "NI!\n",
      "iNeuron\n"
     ]
    }
   ],
   "source": [
    "X = 'iNeuron'\n",
    "\n",
    "def func():\n",
    "    X = 'NI!'\n",
    "    print(X)\n",
    "\n",
    "func()\n",
    "print(X)"
   ]
  },
  {
   "cell_type": "markdown",
   "id": "d2978b87",
   "metadata": {},
   "source": [
    "Ans. The global variables are access in side the functions in python. But we can not access function variable out side function. X is updated with 'NI' which is local to function and its immutable. its name space is with in the function solution = 'NI!', 'iNeuron'."
   ]
  },
  {
   "cell_type": "markdown",
   "id": "4207aee6",
   "metadata": {},
   "source": [
    "Ques 4. What output does this code produce? Why?\n",
    "\n",
    "X = 'iNeuron' \n",
    "def func(): global X X = 'NI'\n",
    "\n",
    "func()\n",
    "print(X)"
   ]
  },
  {
   "cell_type": "code",
   "execution_count": 5,
   "id": "980d9680",
   "metadata": {},
   "outputs": [
    {
     "name": "stdout",
     "output_type": "stream",
     "text": [
      "NI!\n",
      "NI!\n"
     ]
    }
   ],
   "source": [
    "X = 'iNeuron'\n",
    "def func():\n",
    "    global X\n",
    "    X = 'NI!'\n",
    "    print(X)\n",
    "\n",
    "func()\n",
    "print(X)"
   ]
  },
  {
   "cell_type": "markdown",
   "id": "d2c028f4",
   "metadata": {},
   "source": [
    "Ans. since the X in side function is made Global, it will be accesible out side of the function too. now X will have new value."
   ]
  },
  {
   "cell_type": "markdown",
   "id": "cda328cc",
   "metadata": {},
   "source": [
    "Ques 5. What about this code—what’s the output, and why?\n",
    "\n",
    "X = 'iNeuron' >>> def func(): X = 'NI' def nested(): print(X) nested()\n",
    "\n",
    "func() >>> X"
   ]
  },
  {
   "cell_type": "code",
   "execution_count": 7,
   "id": "a95c3f8b",
   "metadata": {},
   "outputs": [
    {
     "name": "stdout",
     "output_type": "stream",
     "text": [
      "iNeuron\n"
     ]
    },
    {
     "data": {
      "text/plain": [
       "'iNeuron'"
      ]
     },
     "execution_count": 7,
     "metadata": {},
     "output_type": "execute_result"
    }
   ],
   "source": [
    "X = 'iNeuron'\n",
    "def func():\n",
    "    X = 'NI'\n",
    "def nested():\n",
    "    print(X)\n",
    "    \n",
    "nested()\n",
    "func()\n",
    "X\n"
   ]
  },
  {
   "cell_type": "markdown",
   "id": "75d7ff1e",
   "metadata": {},
   "source": [
    "#Ans. the nested() function will print 'iNeuron', Then func() does not display anything,and x ='NI' is not accessible outside the function."
   ]
  },
  {
   "cell_type": "markdown",
   "id": "8b77d7d6",
   "metadata": {},
   "source": [
    "Ques 6. How about this code: what is its output in Python 3, and explain?\n",
    "\n",
    "def func(): X = 'NI' def nested(): nonlocal X X = 'Spam' nested() print(X)\n",
    "\n",
    "func()"
   ]
  },
  {
   "cell_type": "code",
   "execution_count": 9,
   "id": "09364925",
   "metadata": {},
   "outputs": [
    {
     "name": "stdout",
     "output_type": "stream",
     "text": [
      "spam\n"
     ]
    }
   ],
   "source": [
    "def func():\n",
    "    X = 'NI'\n",
    "    def nested():\n",
    "        nonlocal X\n",
    "        X = 'spam'\n",
    "    nested()\n",
    "    print(X)\n",
    "\n",
    "func()"
   ]
  },
  {
   "cell_type": "code",
   "execution_count": null,
   "id": "6735d4a7",
   "metadata": {},
   "outputs": [],
   "source": []
  }
 ],
 "metadata": {
  "kernelspec": {
   "display_name": "Python 3 (ipykernel)",
   "language": "python",
   "name": "python3"
  },
  "language_info": {
   "codemirror_mode": {
    "name": "ipython",
    "version": 3
   },
   "file_extension": ".py",
   "mimetype": "text/x-python",
   "name": "python",
   "nbconvert_exporter": "python",
   "pygments_lexer": "ipython3",
   "version": "3.9.7"
  }
 },
 "nbformat": 4,
 "nbformat_minor": 5
}
