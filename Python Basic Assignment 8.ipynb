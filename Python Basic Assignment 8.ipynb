{
 "cells": [
  {
   "cell_type": "markdown",
   "id": "44ae852b",
   "metadata": {},
   "source": [
    "Ques 1. Is the Python Standard Library included with PyInputPlus?\n",
    "\n",
    "Answer PyInputPlus is a Python module used for taking inputs with additional validation features. PyInputPlus will keep asking the user for text until they enter valid input.\n",
    "\n",
    "Installation: pip install PyInputPlus\n",
    "\n",
    "Ques 2. Why is PyInputPlus commonly imported with import pyinputplus as pypi?\n",
    "\n",
    "Answer: We can import the module with import pyinputplus as pyip so that we can enter a shorter name when calling the module’s functions.\n",
    "\n",
    "PyInputPlus has functions for entering a variety of input, including strings, numbers, dates, yes/no, True/False, emails, and files. While input() always returns a string, these functions return the value in an appropriate data type. The inputChoice() function allows us to select one of several pre-selected options, while inputMenu() also adds numbers or letters for quick selection.\n",
    "\n",
    "Ques 3. How do you distinguish between inputInt() and inputFloat()?\n",
    "\n",
    "Answer: inputInt() : Accepts an integer value. This also takes additional parameters ‘min’, ‘max’, ‘greaterThan’ and ‘lessThan’ for bounds. Returns an int.\n",
    "\n",
    "inputFloat() : Accepts a floating-point numeric value. Also takes additional ‘min’, ‘max’, ‘greaterThan’ and ‘lessThan’ parameters. Returns a float.\n",
    "\n",
    "Ques 4. Using PyInputPlus, how do you ensure that the user enters a whole number between 0 and 99?"
   ]
  },
  {
   "cell_type": "code",
   "execution_count": null,
   "id": "618fe3aa",
   "metadata": {},
   "outputs": [],
   "source": [
    "pip install pyinputplus"
   ]
  },
  {
   "cell_type": "markdown",
   "id": "6ff86562",
   "metadata": {},
   "source": [
    "# (base) C:\\Users\\jhash>pip install pyinputplus\n",
    "Collecting pyinputplus\n",
    "  Using cached PyInputPlus-0.2.12-py3-none-any.whl\n",
    "Collecting stdiomask>=0.0.3\n",
    "  Using cached stdiomask-0.0.6.tar.gz (3.6 kB)\n",
    "  Installing build dependencies ... done\n",
    "  Getting requirements to build wheel ... done\n",
    "    Preparing wheel metadata ... done\n",
    "Collecting pysimplevalidate>=0.2.7\n",
    "  Using cached PySimpleValidate-0.2.12.tar.gz (22 kB)\n",
    "  Installing build dependencies ... done\n",
    "  Getting requirements to build wheel ... done\n",
    "    Preparing wheel metadata ... done\n",
    "Building wheels for collected packages: pysimplevalidate, stdiomask\n",
    "  Building wheel for pysimplevalidate (PEP 517) ... done\n",
    "  Created wheel for pysimplevalidate: filename=PySimpleValidate-0.2.12-py3-none-any.whl size=16193 sha256=80d241dd37888e7db560f6d898bfe3ad6acab8f1440f123d3e5b8881ef66e531\n",
    "  Stored in directory: c:\\users\\jhash\\appdata\\local\\pip\\cache\\wheels\\b1\\44\\4a\\043a4f4c4512c7cdfb0c2b8408b18b0de5fd45cac57f5dfa02\n",
    "  Building wheel for stdiomask (PEP 517) ... done\n",
    "  Created wheel for stdiomask: filename=stdiomask-0.0.6-py3-none-any.whl size=3321 sha256=58fde88a8a23da7eea99539f1734522700ba3b9f9fd05de86a95adf2ab662c9d\n",
    "  Stored in directory: c:\\users\\jhash\\appdata\\local\\pip\\cache\\wheels\\1d\\aa\\47\\f41f117d22c5de82e95d9342f44da578c80610739a2d5ebec4\n",
    "Successfully built pysimplevalidate stdiomask\n",
    "Installing collected packages: stdiomask, pysimplevalidate, pyinputplus\n",
    "Successfully installed pyinputplus-0.2.12 pysimplevalidate-0.2.12 stdiomask-0.0.6"
   ]
  },
  {
   "cell_type": "code",
   "execution_count": 2,
   "id": "925fb697",
   "metadata": {},
   "outputs": [
    {
     "name": "stdout",
     "output_type": "stream",
     "text": [
      "5555\n",
      "Number must be less than 100.\n",
      "0\n",
      "Number must be greater than 0.\n",
      "22.66\n",
      "22.66\n"
     ]
    }
   ],
   "source": [
    "import pyinputplus as pyip\n",
    "\n",
    "inp = pyip.inputNum(prompt='', default=0, greaterThan=0, lessThan=100)\n",
    "  \n",
    "print(inp)"
   ]
  },
  {
   "cell_type": "markdown",
   "id": "7bceddb0",
   "metadata": {},
   "source": [
    "Ques 5. What is transferred to the keyword arguments allowRegexes and blockRegexes?\n",
    "\n",
    "Answer: def inputNum(prompt='', default=None, blank=False, timeout=None, limit=None, strip=None, allowRegexes=None, blockRegexes=None, applyFunc=None, postValidateApplyFunc=None, min=None, max=None, greaterThan=None, lessThan=None)\n",
    "\n",
    "Certain inputs can be blocked (that is, these values are invalidated) by setting the blockRegexes parameter’s value as the regex pattern we want to invalidate viceversa for allowRegexes."
   ]
  },
  {
   "cell_type": "code",
   "execution_count": 3,
   "id": "319a6727",
   "metadata": {},
   "outputs": [
    {
     "name": "stdout",
     "output_type": "stream",
     "text": [
      "Enter a string... Jha\n",
      "This response is invalid.\n",
      "Enter a string... Son\n",
      "This response is invalid.\n",
      "Enter a string... zrl\n",
      "zrl\n"
     ]
    }
   ],
   "source": [
    "import pyinputplus as pyip\n",
    "inp = pyip.inputStr(prompt=\"Enter a string... \",\n",
    "\t\t\t\t\tblank=True, blockRegexes = 'aeiou') #strung with vowels will be invalidated\n",
    "\n",
    "print(inp)"
   ]
  },
  {
   "cell_type": "markdown",
   "id": "bbd98ea2",
   "metadata": {},
   "source": [
    "Ques 6. If a blank input is entered three times, what does inputStr(limit=3) do?\n",
    "\n",
    "Answer: inputStr() raises a TimeoutException exception. If the user answers incorrectly more than 3 times, it raises a RetryLimitException exception.\n",
    "\n",
    "Ques 7. If blank input is entered three times, what does inputStr(limit=3, default='hello') do?\n",
    "\n",
    "Answer: If the user answers incorrectly more than 3 times, then default value Hello will be printed."
   ]
  },
  {
   "cell_type": "code",
   "execution_count": 4,
   "id": "31cf30f9",
   "metadata": {},
   "outputs": [
    {
     "name": "stdout",
     "output_type": "stream",
     "text": [
      "\n",
      "Blank values are not allowed.\n",
      "\n",
      "Blank values are not allowed.\n",
      "\n",
      "Blank values are not allowed.\n",
      "hello\n"
     ]
    }
   ],
   "source": [
    "import pyinputplus as pyip\n",
    "inp = pyip.inputStr(limit=3, default='hello') #strung with vowels will be invalidated\n",
    "\n",
    "print(inp)"
   ]
  },
  {
   "cell_type": "code",
   "execution_count": null,
   "id": "288a0f2a",
   "metadata": {},
   "outputs": [],
   "source": []
  }
 ],
 "metadata": {
  "kernelspec": {
   "display_name": "Python 3 (ipykernel)",
   "language": "python",
   "name": "python3"
  },
  "language_info": {
   "codemirror_mode": {
    "name": "ipython",
    "version": 3
   },
   "file_extension": ".py",
   "mimetype": "text/x-python",
   "name": "python",
   "nbconvert_exporter": "python",
   "pygments_lexer": "ipython3",
   "version": "3.9.7"
  }
 },
 "nbformat": 4,
 "nbformat_minor": 5
}
