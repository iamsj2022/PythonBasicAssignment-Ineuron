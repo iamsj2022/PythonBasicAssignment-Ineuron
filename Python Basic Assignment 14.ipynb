{
 "cells": [
  {
   "cell_type": "code",
   "execution_count": 1,
   "id": "04c25db8",
   "metadata": {},
   "outputs": [],
   "source": [
    "#Python Assignment 14"
   ]
  },
  {
   "cell_type": "markdown",
   "id": "2a41140b",
   "metadata": {},
   "source": [
    "Ques 1. What does RGBA stand for?\n",
    "\n",
    "Answer: An RGBA value is a tuple of 4 integers, each ranging from 0 to 255. The four integers correspond to the amount of red, green, blue, and alpha (transparency) in the color.\n",
    "\n",
    "Ques 2. From the Pillow module, how do you get the RGBA value of any images?\n",
    "\n",
    "Answer: A function call to ImageColor.getcolor('CornflowerBlue', 'RGBA') will return (100, 149, 237, 255), the RGBA value for that color.\n",
    "\n",
    "Ques 3. What is a box tuple, and how does it work?\n",
    "\n",
    "Answer: A box tuple is a tuple value of four integers: the left edge x-coordinate, the top edge y-coordinate, the width, and the height, respectively.\n",
    "\n",
    "Ques 4. Use your image and load in notebook then, How can you find out the width and height of an Image object?\n",
    "\n",
    "Answer: ImageObj.size is a tuple of two integers, the width and the height. after loading the image with open() we can use that to find the width and height.\n",
    "\n",
    "Ques 5. What method would you call to get Image object for a 100×100 image, excluding the lower-left quarter of it?\n",
    "\n",
    "Answer: We can call the imageObj.save('new_filename.png') method of the Image object.\n",
    "\n",
    "Ques 6. After making changes to an Image object, how could you save it as an image file?\n",
    "\n",
    "Answer: The ImageDraw module contains code to draw on image.\n",
    "\n",
    "Ques 7. What module contains Pillow’s shape-drawing code?\n",
    "\n",
    "Answer: ImageDraw objects have shape-drawing methods such as point(), line(), or rectangle(). They are returned by passing the Image object to the ImageDraw.Draw() function.\n",
    "\n",
    "Ques 8. Image objects do not have drawing methods. What kind of object does? How do you get this kind of object?\n",
    "\n",
    "Answer: wand.drawing module provides us with some very basic drawing functions. wand.drawing.Drawing object buffers instructions for drawing shapes into images, and then it can draw these shapes into zero or more images. We can also use the shape module for it."
   ]
  }
 ],
 "metadata": {
  "kernelspec": {
   "display_name": "Python 3 (ipykernel)",
   "language": "python",
   "name": "python3"
  },
  "language_info": {
   "codemirror_mode": {
    "name": "ipython",
    "version": 3
   },
   "file_extension": ".py",
   "mimetype": "text/x-python",
   "name": "python",
   "nbconvert_exporter": "python",
   "pygments_lexer": "ipython3",
   "version": "3.9.7"
  }
 },
 "nbformat": 4,
 "nbformat_minor": 5
}
