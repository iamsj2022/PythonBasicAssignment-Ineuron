{
 "cells": [
  {
   "cell_type": "code",
   "execution_count": null,
   "id": "badee930",
   "metadata": {},
   "outputs": [],
   "source": [
    "Ques 1. In what modes should the PdfFileReader() and PdfFileWriter() File objects will be opened?\n",
    "\n",
    "Answer: PdfFileReader() needs to be opened in read-binary mode by passing 'rb' as the second argument to open(). Likewise, the File object passed to PyPDF2. PdfFileWriter() needs to be opened in write-binary mode with 'wb'.\n",
    "\n",
    "Ques 2. From a PdfFileReader object, how do you get a Page object for page 5?\n",
    "\n",
    "Answer: Calling getPage(4) will return a Page object for About this Book, since page 0 is the first page.\n",
    "\n",
    "pageObj = pdfReader.getPage(4)\n",
    "Ques 3. What PdfFileReader variable stores the number of pages in the PDF document?\n",
    "\n",
    "Answer: The total number of pages in the document is stored in the numPages attribute of a PdfFileReader object.\n",
    "\n",
    "Ques 4. If a PdfFileReader object’s PDF is encrypted with the password swordfish, what must you do before you can obtain Page objects from it?\n",
    "\n",
    "Answer: Call decrypt('swordfish')\n",
    "\n",
    "Ques 5. What methods do you use to rotate a page?\n",
    "\n",
    "Answer: The rotateClockwise() and rotateCounterClockwise() methods. The degrees to rotate is passed as an integer argument.\n",
    "\n",
    "Ques 6. What is the difference between a Run object and a Paragraph object?\n",
    "\n",
    "Answer: A document contains multiple paragraphs. A paragraph begins on a new line and contains multiple runs. Runs are contiguous groups of characters within a paragraph.\n",
    "\n",
    "Ques 7. How do you obtain a list of Paragraph objects for a Document object that’s stored in a variable named doc?\n",
    "\n",
    "Answer: Using doc.paragraphs.\n",
    "\n",
    "Ques 8. What type of object has bold, underline, italic, strike, and outline variables?\n",
    "\n",
    "Answer: A Run object has these variables (not a paragraph)\n",
    "\n",
    "Ques 9. What is the difference between False, True, and None for the bold variable?\n",
    "\n",
    "Answer: True always makes the Run object bolded and False makes it always not bolded, no matter what the style's bold setting is. None will make the Run object just use the style's bold setting.\n",
    "\n",
    "Ques 10. How do you create a Document object for a new Word document?\n",
    "\n",
    "Answer: Call the docx.Document() function.\n",
    "\n",
    "Ques 11. How do you add a paragraph with the text 'Hello, there!' to a Document object stored in a variable named doc?\n",
    "\n",
    "Answer: doc.add_paragraph('Hello there!')\n",
    "\n",
    "Ques 12. What integers represent the levels of headings available in Word documents?\n",
    "\n",
    "Answer: The integers 0,1,2,3, and 4"
   ]
  }
 ],
 "metadata": {
  "kernelspec": {
   "display_name": "Python 3 (ipykernel)",
   "language": "python",
   "name": "python3"
  },
  "language_info": {
   "codemirror_mode": {
    "name": "ipython",
    "version": 3
   },
   "file_extension": ".py",
   "mimetype": "text/x-python",
   "name": "python",
   "nbconvert_exporter": "python",
   "pygments_lexer": "ipython3",
   "version": "3.9.7"
  }
 },
 "nbformat": 4,
 "nbformat_minor": 5
}
