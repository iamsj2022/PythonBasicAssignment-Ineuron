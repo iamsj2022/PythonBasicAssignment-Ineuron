{
 "cells": [
  {
   "cell_type": "markdown",
   "id": "5ff0548c",
   "metadata": {},
   "source": [
    "1. What does an empty dictionary's code look like?"
   ]
  },
  {
   "cell_type": "code",
   "execution_count": 1,
   "id": "596ed0f3",
   "metadata": {},
   "outputs": [
    {
     "data": {
      "text/plain": [
       "dict"
      ]
     },
     "execution_count": 1,
     "metadata": {},
     "output_type": "execute_result"
    }
   ],
   "source": [
    "dictt = {}\n",
    "type(dictt)"
   ]
  },
  {
   "cell_type": "markdown",
   "id": "77e02127",
   "metadata": {},
   "source": [
    "2. What is the value of a dictionary value with the key 'foo' and the value 42?"
   ]
  },
  {
   "cell_type": "code",
   "execution_count": 2,
   "id": "75686b6e",
   "metadata": {},
   "outputs": [
    {
     "data": {
      "text/plain": [
       "{'foo': 42}"
      ]
     },
     "execution_count": 2,
     "metadata": {},
     "output_type": "execute_result"
    }
   ],
   "source": [
    "dictt = {'foo': 42}\n",
    "dictt"
   ]
  },
  {
   "cell_type": "markdown",
   "id": "c6177aab",
   "metadata": {},
   "source": [
    "3. What is the most significant distinction between a dictionary and a list?\n",
    "\n",
    "Answer: The items stored in a dictionary are unordered, while the items in a list are ordered.\n",
    "\n",
    "4. What happens if you try to access spam['foo'] if spam is {'bar': 100}?\n",
    "\n",
    "Answer: It will show KeyError. The Python KeyError is a type of LookupError exception and denotes that there was an issue retrieving the key you were looking for. When you see a KeyError , the semantic meaning is that the key being looked for could not be found.\n",
    "\n",
    "5. If a dictionary is stored in spam, what is the difference between the expressions 'cat' in spam and 'cat' in spam.keys()?\n",
    "\n",
    "Answer: There is no difference. The in operator checks whether a value exists as a key in the dictionary.\n",
    "\n",
    "6. If a dictionary is stored in spam, what is the difference between the expressions 'cat' in spam and 'cat' in spam.values()?\n",
    "\n",
    "Answer: 'cat' in spam checks whether there is a 'cat' key in the dictionary, while 'cat' in spam.values() checks whether there is a value 'cat' for one of the keys in spam.\n",
    "\n",
    "7. What is a shortcut for the following code? if 'color' not in spam: spam['color'] = 'black'\n",
    "\n",
    "Answer: spam.setdefault('color', 'black')\n",
    "\n",
    "8. How do you \"pretty print\" dictionary values using which module and function?\n",
    "\n",
    "Answer: pprint.pprint(), pprint is a native Python library that allows us to customize the formatting of our output."
   ]
  },
  {
   "cell_type": "code",
   "execution_count": 3,
   "id": "d66f7725",
   "metadata": {},
   "outputs": [
    {
     "name": "stdout",
     "output_type": "stream",
     "text": [
      "[<Recursion on list with id=2760447716800>,\n",
      " 'spam',\n",
      " 'eggs',\n",
      " 'lumberjack',\n",
      " 'knights',\n",
      " 'ni']\n"
     ]
    }
   ],
   "source": [
    "import pprint\n",
    "stuff = ['spam', 'eggs', 'lumberjack', 'knights', 'ni']\n",
    "stuff.insert(0, stuff)\n",
    "pprint.pprint(stuff)"
   ]
  },
  {
   "cell_type": "code",
   "execution_count": null,
   "id": "7dd8ce13",
   "metadata": {},
   "outputs": [],
   "source": []
  }
 ],
 "metadata": {
  "kernelspec": {
   "display_name": "Python 3 (ipykernel)",
   "language": "python",
   "name": "python3"
  },
  "language_info": {
   "codemirror_mode": {
    "name": "ipython",
    "version": 3
   },
   "file_extension": ".py",
   "mimetype": "text/x-python",
   "name": "python",
   "nbconvert_exporter": "python",
   "pygments_lexer": "ipython3",
   "version": "3.9.7"
  }
 },
 "nbformat": 4,
 "nbformat_minor": 5
}
