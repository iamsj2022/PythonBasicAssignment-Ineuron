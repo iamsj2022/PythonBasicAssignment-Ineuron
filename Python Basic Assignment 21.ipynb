{
 "cells": [
  {
   "cell_type": "markdown",
   "id": "49e32fa9",
   "metadata": {},
   "source": [
    "Ques 1. Add the current date to the text file today.txt as a string."
   ]
  },
  {
   "cell_type": "code",
   "execution_count": 1,
   "id": "57fb5d0d",
   "metadata": {},
   "outputs": [
    {
     "data": {
      "text/plain": [
       "'2022-03-10'"
      ]
     },
     "execution_count": 1,
     "metadata": {},
     "output_type": "execute_result"
    }
   ],
   "source": [
    "import datetime\n",
    "from datetime import date\n",
    "now = date.today()\n",
    "cur_date = now.isoformat()\n",
    "cur_date"
   ]
  },
  {
   "cell_type": "code",
   "execution_count": 2,
   "id": "b80249e2",
   "metadata": {},
   "outputs": [],
   "source": [
    "with open('today.txt','w') as file:\n",
    "    file.write(cur_date)"
   ]
  },
  {
   "cell_type": "markdown",
   "id": "cbf17fcc",
   "metadata": {},
   "source": [
    "Ques 2. Read the text file today.txt into the string today_string"
   ]
  },
  {
   "cell_type": "code",
   "execution_count": 4,
   "id": "a7f42c39",
   "metadata": {},
   "outputs": [],
   "source": [
    "with open('today.txt','r') as file :\n",
    "    today_string = file.read()"
   ]
  },
  {
   "cell_type": "code",
   "execution_count": 5,
   "id": "61353686",
   "metadata": {},
   "outputs": [
    {
     "data": {
      "text/plain": [
       "'2022-03-10'"
      ]
     },
     "execution_count": 5,
     "metadata": {},
     "output_type": "execute_result"
    }
   ],
   "source": [
    "today_string"
   ]
  },
  {
   "cell_type": "markdown",
   "id": "f074b7ea",
   "metadata": {},
   "source": [
    "Ques 3. Parse the date from today_string.\n",
    "\n"
   ]
  },
  {
   "cell_type": "code",
   "execution_count": 11,
   "id": "365a0369",
   "metadata": {},
   "outputs": [
    {
     "data": {
      "text/plain": [
       "datetime.datetime(2022, 3, 10, 0, 0)"
      ]
     },
     "execution_count": 11,
     "metadata": {},
     "output_type": "execute_result"
    }
   ],
   "source": [
    "from datetime import datetime\n",
    "format = '%Y-%m-%d'\n",
    "datetime.strptime(today_string,format)"
   ]
  },
  {
   "cell_type": "markdown",
   "id": "05abe5cc",
   "metadata": {},
   "source": [
    "Ques 4. List the files in your current directory"
   ]
  },
  {
   "cell_type": "code",
   "execution_count": 12,
   "id": "39427c70",
   "metadata": {},
   "outputs": [],
   "source": [
    "import os\n"
   ]
  },
  {
   "cell_type": "code",
   "execution_count": 13,
   "id": "84e5f4cb",
   "metadata": {},
   "outputs": [
    {
     "data": {
      "text/plain": [
       "['.ipynb_checkpoints',\n",
       " 'books.csv',\n",
       " 'books.db',\n",
       " 'Python Basic Assignment 1.ipynb',\n",
       " 'Python Basic Assignment 10.ipynb',\n",
       " 'Python Basic Assignment 11.ipynb',\n",
       " 'Python Basic Assignment 12.ipynb',\n",
       " 'Python Basic Assignment 13.ipynb',\n",
       " 'Python Basic Assignment 14.ipynb',\n",
       " 'Python Basic Assignment 15.ipynb',\n",
       " 'Python Basic Assignment 16.ipynb',\n",
       " 'Python Basic Assignment 17.ipynb',\n",
       " 'Python Basic Assignment 18.ipynb',\n",
       " 'Python Basic Assignment 19.ipynb',\n",
       " 'Python Basic Assignment 2.ipynb',\n",
       " 'Python Basic Assignment 20.ipynb',\n",
       " 'Python Basic Assignment 21.ipynb',\n",
       " 'Python Basic Assignment 3.ipynb',\n",
       " 'Python Basic Assignment 4.ipynb',\n",
       " 'Python Basic Assignment 5.ipynb',\n",
       " 'Python Basic Assignment 6.ipynb',\n",
       " 'Python basic Assignment 7.ipynb',\n",
       " 'Python Basic Assignment 8.ipynb',\n",
       " 'Python Basic Assignment 9.ipynb',\n",
       " 'test.txt',\n",
       " 'today.txt',\n",
       " 'zoo.py',\n",
       " '__pycache__']"
      ]
     },
     "execution_count": 13,
     "metadata": {},
     "output_type": "execute_result"
    }
   ],
   "source": [
    "os.listdir('.')"
   ]
  },
  {
   "cell_type": "markdown",
   "id": "29c6f3be",
   "metadata": {},
   "source": [
    "Ques 5. Create a list of all of the files in your parent directory (minimum five files should be available).\n",
    "\n"
   ]
  },
  {
   "cell_type": "code",
   "execution_count": 15,
   "id": "10fe0d01",
   "metadata": {},
   "outputs": [
    {
     "data": {
      "text/plain": [
       "'C:\\\\Users\\\\jhash\\\\Python Basic Assignment'"
      ]
     },
     "execution_count": 15,
     "metadata": {},
     "output_type": "execute_result"
    }
   ],
   "source": [
    "pwd()"
   ]
  },
  {
   "cell_type": "code",
   "execution_count": 16,
   "id": "e3d6489f",
   "metadata": {},
   "outputs": [
    {
     "name": "stdout",
     "output_type": "stream",
     "text": [
      "The Files and directories in  C:\\Users\\jhash is : \n",
      "['.astropy', '.conda', '.condarc', '.continuum', '.ipynb_checkpoints', '.ipython', '.jupyter', '.matplotlib', '.python_history', '.spyder-py3', '3D Objects', 'addn.py', 'anaconda3', 'ansel', 'AppData', 'Application Data', 'Assignment  python programming basic.ipynb', 'Cassandra.ipynb', 'Contacts', 'Cookies', 'Documents', 'Downloads', 'Evernote', 'Favorites', 'IntelGraphicsProfiles', 'Links', 'Local Settings', 'Logging', 'MicrosoftEdgeBackups', 'Music', 'My Documents', 'NetHood', 'NTUSER.DAT', 'ntuser.dat.LOG1', 'ntuser.dat.LOG2', 'NTUSER.DAT{1c2b59c6-c5f5-11eb-bacb-000d3a96488e}.TM.blf', 'NTUSER.DAT{1c2b59c6-c5f5-11eb-bacb-000d3a96488e}.TMContainer00000000000000000001.regtrans-ms', 'NTUSER.DAT{1c2b59c6-c5f5-11eb-bacb-000d3a96488e}.TMContainer00000000000000000002.regtrans-ms', 'ntuser.ini', 'numpy.ipynb', 'OneDrive', 'OOPS.ipynb', 'Pandas --3.ipynb', 'Pandas.ipynb', 'Players_data.csv', 'Postman', 'PrintHood', 'PycharmProjects', 'Python Basic Assignment', 'Python Programming Basic Assignment', 'randomFolder', 'Recent', 'Saved Games', 'seaborn-data', 'Searches', 'SendTo', 'ShashiLog', 'SJ', 'SJ22.log', 'SQL .ipynb', 'Start Menu', 'Templates', 'Test', 'Untitled.ipynb', 'untitled.txt', 'Untitled1.ipynb', 'Untitled2.ipynb', 'Untitled3.ipynb', 'Untitled4.ipynb', 'UrbanVPN', 'Videos', 'zoo.py', '__pycache__']\n"
     ]
    }
   ],
   "source": [
    "import os \n",
    "path = 'C:\\\\Users\\\\jhash'\n",
    "dir_list = os.listdir(path)\n",
    "print(\"The Files and directories in \",path,\"is : \" )\n",
    "print(dir_list)"
   ]
  },
  {
   "cell_type": "markdown",
   "id": "dab45099",
   "metadata": {},
   "source": [
    "Ques 6. Use multiprocessing to create three separate processes. Make each one wait a random number of seconds between one and five, print the current time, and then exit.\n",
    "\n"
   ]
  },
  {
   "cell_type": "code",
   "execution_count": 17,
   "id": "df8ac1b4",
   "metadata": {},
   "outputs": [],
   "source": [
    "import multiprocessing"
   ]
  },
  {
   "cell_type": "code",
   "execution_count": 18,
   "id": "4eff9eb9",
   "metadata": {},
   "outputs": [],
   "source": [
    "import numpy as np"
   ]
  },
  {
   "cell_type": "code",
   "execution_count": 27,
   "id": "f2242250",
   "metadata": {},
   "outputs": [
    {
     "name": "stdout",
     "output_type": "stream",
     "text": [
      "<Process name='Process-43' pid=11892 parent=2952 started>\n",
      "wait 0.9424371154009623 Secs , Time is : 2022-03-10 17:57:18.138364\n",
      "<Process name='Process-44' pid=19092 parent=2952 started>\n",
      "wait 0.018330855137035584 Secs , Time is : 2022-03-10 17:57:18.149827\n",
      "<Process name='Process-45' pid=2880 parent=2952 started>\n",
      "wait 0.1924644256272855 Secs , Time is : 2022-03-10 17:57:18.159796\n",
      "<Process name='Process-46' pid=16224 parent=2952 started>\n",
      "wait 0.13967847490257612 Secs , Time is : 2022-03-10 17:57:18.170766\n",
      "<Process name='Process-47' pid=6788 parent=2952 started>\n",
      "wait 0.9096605210413261 Secs , Time is : 2022-03-10 17:57:18.180742\n",
      "<Process name='Process-48' pid=13968 parent=2952 started>\n",
      "wait 0.17983699767191796 Secs , Time is : 2022-03-10 17:57:18.192784\n",
      "<Process name='Process-49' pid=15396 parent=2952 started>\n",
      "wait 0.7988473055535111 Secs , Time is : 2022-03-10 17:57:18.203772\n",
      "<Process name='Process-50' pid=15256 parent=2952 started>\n",
      "wait 0.4342350275970036 Secs , Time is : 2022-03-10 17:57:18.215619\n",
      "<Process name='Process-51' pid=8116 parent=2952 started>\n",
      "wait 0.9586112207497607 Secs , Time is : 2022-03-10 17:57:18.226619\n",
      "<Process name='Process-52' pid=5912 parent=2952 started>\n",
      "wait 0.516542963273264 Secs , Time is : 2022-03-10 17:57:18.237589\n"
     ]
    }
   ],
   "source": [
    "def printsec(seconds):\n",
    "    from datetime import datetime\n",
    "    from time import sleep\n",
    "    sleep(seconds)\n",
    "    print('wait',seconds,'Secs , Time is :',datetime.utcnow())\n",
    "    \n",
    "if __name__ == '__main__' :\n",
    "    import random\n",
    "    for i in range(10):\n",
    "        seconds = random.random()\n",
    "        proc = multiprocessing.Process(target=printsec, args=(seconds,))\n",
    "        proc.start()\n",
    "        print(proc)\n",
    "        print('wait',seconds,'Secs , Time is :',datetime.utcnow())"
   ]
  },
  {
   "cell_type": "markdown",
   "id": "48ed72be",
   "metadata": {},
   "source": [
    "Ques 7. Create a date object of your day of birth"
   ]
  },
  {
   "cell_type": "code",
   "execution_count": 32,
   "id": "ab6a05c6",
   "metadata": {},
   "outputs": [
    {
     "data": {
      "text/plain": [
       "datetime.date(1997, 3, 29)"
      ]
     },
     "execution_count": 32,
     "metadata": {},
     "output_type": "execute_result"
    }
   ],
   "source": [
    "import datetime\n",
    "my_dob = datetime.date(1997,3,29)\n",
    "my_dob"
   ]
  },
  {
   "cell_type": "markdown",
   "id": "6b8556ff",
   "metadata": {},
   "source": [
    "Ques 8. What day of the week was your day of birth?"
   ]
  },
  {
   "cell_type": "code",
   "execution_count": 35,
   "id": "03abbf2c",
   "metadata": {},
   "outputs": [
    {
     "data": {
      "text/plain": [
       "5"
      ]
     },
     "execution_count": 35,
     "metadata": {},
     "output_type": "execute_result"
    }
   ],
   "source": [
    "my_dob.weekday()"
   ]
  },
  {
   "cell_type": "markdown",
   "id": "1e6c8fda",
   "metadata": {},
   "source": [
    "Ques 9. When will you be (or when were you) 10,000 days old?\n",
    "\n"
   ]
  },
  {
   "cell_type": "code",
   "execution_count": 37,
   "id": "2727b84c",
   "metadata": {},
   "outputs": [
    {
     "data": {
      "text/plain": [
       "datetime.date(2024, 8, 14)"
      ]
     },
     "execution_count": 37,
     "metadata": {},
     "output_type": "execute_result"
    }
   ],
   "source": [
    "from datetime import timedelta\n",
    "day10000 = my_dob + timedelta(days = 10000)\n",
    "day10000"
   ]
  },
  {
   "cell_type": "code",
   "execution_count": null,
   "id": "e06e51ec",
   "metadata": {},
   "outputs": [],
   "source": []
  }
 ],
 "metadata": {
  "kernelspec": {
   "display_name": "Python 3 (ipykernel)",
   "language": "python",
   "name": "python3"
  },
  "language_info": {
   "codemirror_mode": {
    "name": "ipython",
    "version": 3
   },
   "file_extension": ".py",
   "mimetype": "text/x-python",
   "name": "python",
   "nbconvert_exporter": "python",
   "pygments_lexer": "ipython3",
   "version": "3.9.7"
  }
 },
 "nbformat": 4,
 "nbformat_minor": 5
}
