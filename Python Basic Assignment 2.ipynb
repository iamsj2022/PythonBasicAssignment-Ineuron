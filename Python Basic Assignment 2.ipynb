{
 "cells": [
  {
   "cell_type": "markdown",
   "id": "98dcc789",
   "metadata": {},
   "source": [
    "1: What are the two values of the Boolean data type? How do you write them?\n",
    "\n",
    "Answer:\n",
    "\n",
    "Python boolean type is one of the built-in data types provided by Python, which represents one of the two values i.e. True or False. Generally, it is used to represent the truth values of the expressions.\n",
    "\n",
    "Example: var1 = 0 print(bool(var1))\n",
    "\n",
    "var2 = 1 print(bool(var2))\n",
    "\n",
    "Output:\n",
    "\n",
    "False\n",
    "\n",
    "True\n",
    "\n",
    "2: What are the three different types of Boolean operators?\n",
    "\n",
    "Answer: There are three logical operators that are used to compare values. They evaluate expressions down to Boolean values, returning either True or False. These operators are and, or, and not.\n",
    "\n",
    "print((9 > 7) and (2 < 4)) # Both original expressions are True print((8 == 8) or (6 != 6)) # One original expression is True print(not(3 <= 1)) # The original expression is False\n",
    "\n",
    "Output:\n",
    "\n",
    "True\n",
    "\n",
    "True\n",
    "\n",
    "True\n",
    "\n",
    "3: Make a list of each Boolean operator's truth tables (i.e. every possible combination of Boolean values for the operator and what it evaluate ).\n",
    "\n",
    "Answer:"
   ]
  },
  {
   "cell_type": "code",
   "execution_count": 1,
   "id": "d6ae457a",
   "metadata": {},
   "outputs": [
    {
     "name": "stdout",
     "output_type": "stream",
     "text": [
      "[False, True, True, True]\n",
      "[False, False, False, True]\n"
     ]
    }
   ],
   "source": [
    "l1 =[False or False, False or True, True or False, True or True]\n",
    "print(l1)\n",
    "l2 =[False and False, False and True, True and False, True and True]\n",
    "print(l2)"
   ]
  },
  {
   "cell_type": "markdown",
   "id": "74e593ff",
   "metadata": {},
   "source": [
    "4: What are the values of the following expressions?\n",
    "\n",
    "(5 > 4) and (3 == 5)\n",
    "\n",
    "not (5 > 4)\n",
    "\n",
    "(5 > 4) or (3 == 5)\n",
    "\n",
    "not ((5 > 4) or (3 == 5))\n",
    "\n",
    "(True and True) and (True == False)\n",
    "\n",
    "(not False) or (not True)\n",
    "\n",
    "Answer:"
   ]
  },
  {
   "cell_type": "code",
   "execution_count": 2,
   "id": "33d4d7e6",
   "metadata": {},
   "outputs": [
    {
     "name": "stdout",
     "output_type": "stream",
     "text": [
      "False False True False False True\n"
     ]
    }
   ],
   "source": [
    "a = (5 > 4) and (3 == 5)\n",
    "b = not (5 > 4)\n",
    "c = (5 > 4) or (3 == 5)\n",
    "d = not ((5 > 4) or (3 == 5))\n",
    "e = (True and True) and (True == False)\n",
    "f = (not False) or (not True)\n",
    "print(a,b,c,d,e,f)"
   ]
  },
  {
   "cell_type": "markdown",
   "id": "013d52ff",
   "metadata": {},
   "source": [
    "5: What are the six comparison operators?\n",
    "\n",
    "Answer:\n",
    "\n",
    "3<5 True (Less then)\n",
    "\n",
    "3>5 False (Greater then)\n",
    "\n",
    "3<=5 True (Less then equal too)\n",
    "\n",
    "3>=5 False (Greater then equal too)\n",
    "\n",
    "3==5 False (equal too equal too)\n",
    "\n",
    "3!=5 True (Not equal too)\n",
    "\n",
    "6: How do you tell the difference between the equal to and assignment operators?Describe a condition and when you would use one.\n",
    "\n",
    "Answers:\n",
    "\n",
    "The “=” is an assignment operator is used to assign the value on the right to the variable on the left. Example:\n",
    "\n",
    "a = 1\n",
    "\n",
    "b = 2\n",
    "\n",
    "The ‘==’ operator checks whether the two given operands are equal or not. If so, it returns true. Otherwise it returns false.\n",
    "\n",
    "Example: 5==5 Output: True\n",
    "\n",
    "7: Identify the three blocks in this code:\n",
    "spam = 0\n",
    "\n",
    "if spam == 10:\n",
    "\n",
    "print(eggs)\n",
    "\n",
    "if spam > 5:\n",
    "\n",
    "print(bacon)\n",
    "\n",
    "else:\n",
    "\n",
    "print(ham)\n",
    "\n",
    "print(spam)\n",
    "\n",
    "print(spam)\n",
    "\n",
    "Answer:"
   ]
  },
  {
   "cell_type": "code",
   "execution_count": 3,
   "id": "b046ffaf",
   "metadata": {},
   "outputs": [
    {
     "name": "stdout",
     "output_type": "stream",
     "text": [
      "ham\n",
      "spam\n",
      "spam\n"
     ]
    }
   ],
   "source": [
    "spam = 0\n",
    "if spam == 10: #BLOCK 1 : 1st if condition\n",
    "  print('eggs')\n",
    "elif spam > 5: #BLOCK 2 : elif or if condition\n",
    "  print('bacon')\n",
    "else: #BLOCK 3 : else condition\n",
    "  print('ham')\n",
    "  print('spam')\n",
    "  print('spam')\n",
    "  #in this case the else condition is true"
   ]
  },
  {
   "cell_type": "markdown",
   "id": "c111545c",
   "metadata": {},
   "source": [
    "8: Write code that prints Hello if 1 is stored in spam, prints Howdy if 2 is stored in spam, and prints Greetings! if anything else is stored in spam"
   ]
  },
  {
   "cell_type": "code",
   "execution_count": 4,
   "id": "f7cf968c",
   "metadata": {},
   "outputs": [
    {
     "name": "stdout",
     "output_type": "stream",
     "text": [
      "Enter Input value as intergers:2\n",
      "howdy\n"
     ]
    }
   ],
   "source": [
    "spam = int(input(\"Enter Input value as intergers:\"))\n",
    "if spam ==1:\n",
    "  print(\"Hello\")\n",
    "elif spam == 2:\n",
    "  print(\"howdy\")\n",
    "else:\n",
    "  print(\"greetings\")"
   ]
  },
  {
   "cell_type": "markdown",
   "id": "1e66ecaa",
   "metadata": {},
   "source": [
    "9: If your programme is stuck in an endless loop, what keys you’ll press?\n",
    "\n",
    "Answer: CTRL + C\n",
    "\n",
    "10: How can you tell the difference between break and continue?\n",
    "\n",
    "Answer: The main difference between break and continue statement is that when break keyword is encountered, it will exit the loop.\n",
    "\n",
    "In case of continue keyword, the current iteration that is running will be stopped, and it will proceed with the next iteration.\n",
    "\n",
    "11: In a for loop, what is the difference between range(10), range(0, 10), and range(0, 10, 1)?\n",
    "\n",
    "Answer: range(10), range(0, 10), and range(0, 10, 1) all three are same."
   ]
  },
  {
   "cell_type": "markdown",
   "id": "cd4addf5",
   "metadata": {},
   "source": [
    "12. Write a short program that prints the numbers 1 to 10 using a for loop. Then write an equivalent program that prints the numbers 1 to 10 using a while loop"
   ]
  },
  {
   "cell_type": "code",
   "execution_count": 5,
   "id": "5f43c951",
   "metadata": {},
   "outputs": [
    {
     "name": "stdout",
     "output_type": "stream",
     "text": [
      "1\n",
      "2\n",
      "3\n",
      "4\n",
      "5\n",
      "6\n",
      "7\n",
      "8\n",
      "9\n",
      "10\n"
     ]
    }
   ],
   "source": [
    "for i in range(1,11) :\n",
    "    print(i)\n",
    "    i=i+1"
   ]
  },
  {
   "cell_type": "code",
   "execution_count": 6,
   "id": "6854ba9d",
   "metadata": {},
   "outputs": [
    {
     "name": "stdout",
     "output_type": "stream",
     "text": [
      "1\n",
      "2\n",
      "3\n",
      "4\n",
      "5\n",
      "6\n",
      "7\n",
      "8\n",
      "9\n",
      "10\n"
     ]
    }
   ],
   "source": [
    "i =1\n",
    "while i<=10 :\n",
    "    print(i)\n",
    "    i = i+1"
   ]
  },
  {
   "cell_type": "code",
   "execution_count": null,
   "id": "80532be5",
   "metadata": {},
   "outputs": [],
   "source": [
    "13. If you had a function named bacon() inside a module named spam, how would you call it after importing spam?\n",
    "\n",
    "Answer: This function can be called with spam.bacon()."
   ]
  }
 ],
 "metadata": {
  "kernelspec": {
   "display_name": "Python 3 (ipykernel)",
   "language": "python",
   "name": "python3"
  },
  "language_info": {
   "codemirror_mode": {
    "name": "ipython",
    "version": 3
   },
   "file_extension": ".py",
   "mimetype": "text/x-python",
   "name": "python",
   "nbconvert_exporter": "python",
   "pygments_lexer": "ipython3",
   "version": "3.9.7"
  }
 },
 "nbformat": 4,
 "nbformat_minor": 5
}
