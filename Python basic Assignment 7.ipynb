{
 "cells": [
  {
   "cell_type": "markdown",
   "id": "f281a4ca",
   "metadata": {},
   "source": [
    "1. What is the name of the feature responsible for generating Regex objects?\n",
    "\n",
    "Answer: The re.compile() function returns Regex objects.\n",
    "\n",
    "2. Why do raw strings often appear in Regex objects?\n",
    "\n",
    "Answer: Raw strings are used so that backslashes do not have to be escaped.\n",
    "\n",
    "3. What is the return value of the search() method?\n",
    "\n",
    "Answer: The search() method returns Match objects.\n",
    "\n",
    "4. From a Match item, how do you get the actual strings that match the pattern?\n",
    "\n",
    "Answer: The group() method returns strings of the matched text.\n",
    "\n",
    "5. In the regex which created from the r'(\\d\\d\\d)-(\\d\\d\\d-\\d\\d\\d\\d)', what does group zero cover? Group 2? Group 1?\n",
    "\n",
    "Answer: Group 0 is the entire match, group 1 covers the first set of parentheses, and group 2 covers the second set of parentheses.\n",
    "\n",
    "6. In standard expression syntax, parentheses and intervals have distinct meanings. How can you tell a regex that you want it to fit real parentheses and periods?"
   ]
  },
  {
   "cell_type": "code",
   "execution_count": 1,
   "id": "ae7701a6",
   "metadata": {},
   "outputs": [],
   "source": [
    "# Periods and parentheses can be escaped with a backslash: \\., \\(, and \\)."
   ]
  },
  {
   "cell_type": "markdown",
   "id": "2aa0bb7b",
   "metadata": {},
   "source": [
    "7. The findall() method returns a string list or a list of string tuples. What causes it to return one of the two options?\n",
    "\n",
    "Answer: If the regex has no groups, a list of strings is returned. If the regex has groups, a list of tuples of strings is returned.\n",
    "\n",
    "8. In standard expressions, what does the | character mean?\n",
    "\n",
    "Answer: The | character signifies matching \"either, or\" between two groups.\n",
    "\n",
    "9. In regular expressions, what does the character stand for?\n",
    "\n",
    "Answer: The ? character can either mean \"match zero or one of the preceding group\" or be used to signify nongreedy matching.\n",
    "\n",
    "10. In regular expressions, what is the difference between the + and * characters?\n",
    "\n",
    "Answer: The + matches one or more. The * matches zero or more.\n",
    "\n",
    "11. What is the difference between {4} and {4,5} in regular expression?\n",
    "\n",
    "Answer: The {4} matches exactly four instances of the preceding group. The {4,5} matches between four and five instances.\n",
    "\n",
    "12. What do you mean by the \\d, \\w, and \\s shorthand character classes signify in regular expressions?\n",
    "\n",
    "Answer: \\d returns a match where the string contains digits (numbers from 0-9)\n",
    "\n",
    "\\w returns a match where the string contains any word characters (characters from a to Z, digits from 0-9, and the underscore _ character)\n",
    "\n",
    "\\s returns a match where the string contains a white space character"
   ]
  },
  {
   "cell_type": "code",
   "execution_count": 3,
   "id": "e45774d7",
   "metadata": {},
   "outputs": [
    {
     "name": "stdout",
     "output_type": "stream",
     "text": [
      "[]\n",
      "No match\n"
     ]
    }
   ],
   "source": [
    "import re\n",
    "text = \"My name is Shashi\"\n",
    "x = re.findall(\"\\d\", text)\n",
    "print(x)\n",
    "if x:\n",
    "  print(\"Yes, there is at least one match!\")\n",
    "else:\n",
    "  print(\"No match\")"
   ]
  },
  {
   "cell_type": "code",
   "execution_count": 4,
   "id": "d281a304",
   "metadata": {},
   "outputs": [
    {
     "name": "stdout",
     "output_type": "stream",
     "text": [
      "['M', 'y', 'n', 'a', 'm', 'e', 'i', 's', 'S', 'h', 'a', 's', 'h', 'i', 'J', 'h', 'a']\n",
      "Yes, there is at least one match!\n"
     ]
    }
   ],
   "source": [
    "import re\n",
    "text = \"My name is Shashi Jha\"\n",
    "x = re.findall(\"\\w\", text)\n",
    "print(x)\n",
    "if x:\n",
    "  print(\"Yes, there is at least one match!\")\n",
    "else:\n",
    "  print(\"No match\")"
   ]
  },
  {
   "cell_type": "code",
   "execution_count": 5,
   "id": "a2f91bf8",
   "metadata": {},
   "outputs": [
    {
     "name": "stdout",
     "output_type": "stream",
     "text": [
      "[' ', ' ', ' ', ' ']\n",
      "Yes, there is at least one match!\n"
     ]
    }
   ],
   "source": [
    "import re\n",
    "text = \"My name is Shashi Jha\"\n",
    "x = re.findall(\"\\s\", text)\n",
    "print(x)\n",
    "if x:\n",
    "  print(\"Yes, there is at least one match!\")\n",
    "else:\n",
    "  print(\"No match\")"
   ]
  },
  {
   "cell_type": "markdown",
   "id": "04d4c8a1",
   "metadata": {},
   "source": [
    "13. What do means by \\D, \\W, and \\S shorthand character classes signify in regular expressions?\n",
    "\n",
    "Answer : \\D returns a match where the string DOES NOT contain digits\n",
    "\n",
    "\\W returns a match where the string DOES NOT contain any word characters\n",
    "\n",
    "\\S returns a match where the string DOES NOT contain a white space character"
   ]
  },
  {
   "cell_type": "markdown",
   "id": "169c79ca",
   "metadata": {},
   "source": [
    "14. What is the difference between .*? and .*?\n",
    "\n",
    "Answer: .*? this will check 0 or 1 occurances of any character while .* checks 0 or more  occurances of any characters. In this scenario\n",
    "#.* will be implemented and check for  0 or more  occurances of any characters. examples are mentioned below"
   ]
  },
  {
   "cell_type": "code",
   "execution_count": 7,
   "id": "fb92af4e",
   "metadata": {},
   "outputs": [
    {
     "name": "stdout",
     "output_type": "stream",
     "text": [
      "['hello']\n"
     ]
    }
   ],
   "source": [
    "import re\n",
    "txt = \"hello Shashi\"\n",
    "#Search for a sequence that starts with \"he\", followed by 0 or more  (any) characters, and an \"o\":\n",
    "x = re.findall(\"he.*o\", txt)\n",
    "print(x)"
   ]
  },
  {
   "cell_type": "code",
   "execution_count": 9,
   "id": "1c68f95a",
   "metadata": {},
   "outputs": [
    {
     "name": "stdout",
     "output_type": "stream",
     "text": [
      "[]\n"
     ]
    }
   ],
   "source": [
    "import re\n",
    "txt = \"hello Shashi\"\n",
    "#Search for a sequence that starts with \"he\", followed by 0 or 1  (any) character, and an \"o\":\n",
    "x = re.findall(\"he.?o\", txt)\n",
    "print(x)\n",
    "#This time we got no match, because there were not zero, not one, but two characters between \"he\" and the \"o\""
   ]
  },
  {
   "cell_type": "markdown",
   "id": "ff2fd662",
   "metadata": {},
   "source": [
    "15. What is the syntax for matching both numbers and lowercase letters with a character class?"
   ]
  },
  {
   "cell_type": "code",
   "execution_count": 10,
   "id": "ed71bf4b",
   "metadata": {},
   "outputs": [
    {
     "name": "stdout",
     "output_type": "stream",
     "text": [
      "['m', 'y', 'n', 'a', 'm', 'e', 'i', 's', 'h', 'a', 's', 'h', 'i', '1', '2', '3', '5', '0']\n",
      "Yes, there is at least one match!\n"
     ]
    }
   ],
   "source": [
    "import re\n",
    "txt = \"my name is Shashi 12350\"\n",
    "#Check if the string has any characters between a and z:\n",
    "x = re.findall(\"[a-z,0-9]\", txt)\n",
    "print(x)\n",
    "if x:\n",
    "  print(\"Yes, there is at least one match!\")\n",
    "else:\n",
    "  print(\"No match\")"
   ]
  },
  {
   "cell_type": "markdown",
   "id": "420c5386",
   "metadata": {},
   "source": [
    "16. What is the procedure for making a normal expression in regax case insensitive?\n",
    "Answer: How do you make a regular expression case-insensitive in Python? IGNORECASE : This flag allows for case-insensitive matching of the Regular Expression with the given string i.e. expressions like [A-Z] will match lowercase letters, too. Generally, It's passed as an optional argument to re. compile() ."
   ]
  },
  {
   "cell_type": "code",
   "execution_count": 11,
   "id": "f7962cde",
   "metadata": {},
   "outputs": [
    {
     "name": "stdout",
     "output_type": "stream",
     "text": [
      "['M', 'y', 'n', 'a', 'm', 'e', 'i', 's', 'a', 's', 'h', 'i', 's', 'h', '1', '2', '3', '5', '0']\n",
      "Yes, there is at least one match!\n"
     ]
    }
   ],
   "source": [
    "import re\n",
    "txt = \"My name is ashish 12350\"\n",
    "#Check if the string has any characters between a and z:\n",
    "x = re.findall(\"[A-Z,a-z,0-9]\", txt, re.IGNORECASE)\n",
    "print(x)\n",
    "if x:\n",
    "  print(\"Yes, there is at least one match!\")\n",
    "else:\n",
    "  print(\"No match\")"
   ]
  },
  {
   "cell_type": "markdown",
   "id": "4df3dbd4",
   "metadata": {},
   "source": [
    "17. What does the . character normally match? What does it match if re.DOTALL is passed as 2nd argument in re.compile()?\n",
    "\n",
    "Answer: If re. DOTALL is passed as the second argument to re. compile(), then the dot will also match newline characters.\n",
    "\n",
    "18. If numReg = re.compile(r'\\d+'), what will numRegex.sub('X', '11 drummers, 10 pipers, five rings, 4 hen') return?\n",
    "\n",
    "Answer: numRegex.sub('X', '11 drummers, 10 pipers, five rings, 4 hen') will relace one or many mathes of \"X\" with \"11 drummers, 10 pipers, five rings, 4 hen\"\n",
    "\n",
    "19. What does passing re.VERBOSE as the 2nd argument to re.compile() allow to do?\n",
    "\n",
    "Answer: re.VERBOSE flag allows us to write regular expressions that look nicer and are more readable by allowing us to visually separate logical sections of the pattern and add comments.\n",
    "\n",
    "Whitespace within the pattern is ignored, except when in a character class, or when preceded by an unescaped backslash, or within tokens like *?, (?: or (?P. When a line contains a # that is not in a character class and is not preceded by an unescaped backslash, all characters from the leftmost such # through the end of the line are ignored."
   ]
  },
  {
   "cell_type": "code",
   "execution_count": 12,
   "id": "cdaf5e0d",
   "metadata": {},
   "outputs": [],
   "source": [
    "import re\n",
    "def validate_email(email):\n",
    "\t# RegexObject = re.compile( Regular expression, flag )\n",
    "\t# Compiles a regular expression pattern into a regular expression object\n",
    "\tregex_email=re.compile(r\"\"\"\n",
    "\t\t\t\t\t\t^([a-z0-9_\\.-]+)\t\t\t\t # local Part\n",
    "\t\t\t\t\t\t@\t\t\t\t\t\t\t           # single @ sign\n",
    "\t\t\t\t\t\t\t([0-9a-z\\.-]+)\t\t\t\t # Domain name\n",
    "\t\t\t\t\t\t\\.\t\t\t\t\t\t\t         # single Dot .\n",
    "\t\t\t\t\t\t\t([a-z]{2,6})$\t\t\t\t   # Top level Domain\t\n",
    "\t\t\t\t\t\t\"\"\",re.VERBOSE | re.IGNORECASE)\n",
    "\n",
    "\t# RegexObject is matched with the desired string using fullmatch function\n",
    "\t# In case a match is found, search() returns a MatchObject Instance\n",
    "\tres=regex_email.fullmatch(email)\n",
    "\t#If match is found, the string is valid\n",
    "\tif res:\n",
    "\t\tprint(\"{} is Valid. Details are as follow:\".format(email))\n",
    "\t\t#prints first part/personal detail of Email Id\n",
    "\t\tprint(\"Local:{}\".format(res.group(1)))\t\n",
    "\t\t#prints Domain Name of Email Id\n",
    "\t\tprint(\"Domain:{}\".format(res.group(2)))\t\n",
    "\t\t#prints Top Level Domain Name of Email Id\n",
    "\t\tprint(\"Top Level domain:{}\".format(res.group(3)))\n",
    "\t\tprint()\t\t\n",
    "\telse:\n",
    "\t\t#If match is not found,string is invalid\n",
    "\t\tprint(\"{} is Invalid\".format(email))"
   ]
  },
  {
   "cell_type": "code",
   "execution_count": 13,
   "id": "4eaa5187",
   "metadata": {},
   "outputs": [
    {
     "name": "stdout",
     "output_type": "stream",
     "text": [
      "singh.Shashi.kr96@gmail.com is Valid. Details are as follow:\n",
      "Local:singh.Shashi.kr96\n",
      "Domain:gmail\n",
      "Top Level domain:com\n",
      "\n",
      "Shashi123@yahoo.com@ is Invalid\n",
      "Shashi@.com is Invalid\n"
     ]
    }
   ],
   "source": [
    "validate_email(\"singh.Shashi.kr96@gmail.com\")\n",
    "validate_email(\"Shashi123@yahoo.com@\")\n",
    "validate_email(\"Shashi@.com\")"
   ]
  },
  {
   "cell_type": "markdown",
   "id": "b070f4c0",
   "metadata": {},
   "source": [
    "20. How would you write a regex that match a number with comma for every three digits? It must match the given following:\n",
    "'42'\n",
    "\n",
    "'1,234'\n",
    "\n",
    "'6,368,745'\n",
    "\n",
    "but not the following:\n",
    "\n",
    "'12,34,567' (which has only two digits between the commas)\n",
    "\n",
    "'1234' (which lacks commas)"
   ]
  },
  {
   "cell_type": "code",
   "execution_count": 16,
   "id": "a70edb84",
   "metadata": {},
   "outputs": [
    {
     "name": "stdout",
     "output_type": "stream",
     "text": [
      "Enter the input values:6,368,745\n",
      "['6,368,745']\n",
      "Yes, there is at least one match!\n"
     ]
    }
   ],
   "source": [
    "#https://regex101.com/r/65nMlq/2/\n",
    "import re\n",
    "txt = input(\"Enter the input values:\")\n",
    "x = re.findall(\"^((?:\\d{1,3},(?:\\d{3},)*\\d{3})|(?:\\d{1,3}))$\", txt)\n",
    "print(x)\n",
    "if x:\n",
    "  print(\"Yes, there is at least one match!\")\n",
    "else:\n",
    "  print(\"No match\")"
   ]
  },
  {
   "cell_type": "markdown",
   "id": "5b0b712f",
   "metadata": {},
   "source": [
    "21. How would you write a regex that matches the full name of someone whose last name is Watanabe? You can assume that the first name that comes before it will always be one word that begins with a capital letter. The regex must match the following:\n",
    "\n",
    "'Haruto Watanabe'\n",
    "\n",
    "'Alice Watanabe'\n",
    "\n",
    "'RoboCop Watanabe'\n",
    "\n",
    "but not the following:\n",
    "\n",
    "'haruto Watanabe' (where the first name is not capitalized)\n",
    "\n",
    "'Mr. Watanabe' (where the preceding word has a nonletter character)\n",
    "\n",
    "'Watanabe' (which has no first name)\n",
    "\n",
    "'Haruto watanabe' (where Watanabe is not capitalized)"
   ]
  },
  {
   "cell_type": "code",
   "execution_count": 17,
   "id": "fd2a9a47",
   "metadata": {},
   "outputs": [
    {
     "name": "stdout",
     "output_type": "stream",
     "text": [
      "Haruto Watanabe\n",
      "\n",
      "\n",
      "Next, the result of using my regex with search over each possible name to match:\n",
      "Haruto Watanabe\n",
      "Alice Watanabe\n",
      "RoboCop Watanabe\n",
      "\n",
      "Finally, the result of using the same regex with findall (same text as in first search):\n",
      "Haruto Watanabe\n",
      "Alice Watanabe\n",
      "RoboCop Watanabe\n"
     ]
    }
   ],
   "source": [
    "import re\n",
    "name_regex = re.compile(r'[A-Z](?:\\w)+\\sWatanabe')\n",
    "text = \"The regex must match the following: 'Haruto Watanabe' 'Alice Watanabe' 'RoboCop Watanabe' but not the following: 'haruto Watanabe' (where the first name is not capitalized) 'Mr. Watanabe' (where the preceding word has a nonletter character) 'Watanabe'(which has no first name) 'Haruto watanabe'.\"\n",
    "mo0 = name_regex.search(text)\n",
    "found = mo0.group()\n",
    "print(found + '\\n\\n')\n",
    "mo1 = name_regex.search('Haruto Watanabe')\n",
    "mo2 = name_regex.search('Alice Watanabe')\n",
    "mo3 = name_regex.search('RoboCop Watanabe')\n",
    "mo4 = name_regex.search('Watanabe')\n",
    "mo5 = name_regex.search('Mr. Watanabe')\n",
    "mo6 = name_regex.search('Haruto watanabe')\n",
    "mo7 = name_regex.search('haruto watanabe')\n",
    "mo_l = [mo1, mo2, mo3, mo4, mo5, mo6, mo7]\n",
    "print(\"Next, the result of using my regex with search over each possible name to match:\")\n",
    "try:\n",
    "    for mo_x in mo_l:\n",
    "        mo = mo_x.group()\n",
    "        print(mo)\n",
    "except AttributeError:\n",
    "    pass\n",
    "print(\"\\nFinally, the result of using the same regex with findall (same text as in first search):\")\n",
    "all_matches = re.findall(name_regex, text)\n",
    "for match in all_matches:\n",
    "    print(match)"
   ]
  },
  {
   "cell_type": "markdown",
   "id": "54f8c175",
   "metadata": {},
   "source": [
    "22. How would you write a regex that matches a sentence where the first word is either Alice, Bob, or Carol; the second word is either eats, pets, or throws; the third word is apples, cats, or baseballs; and the sentence ends with a period? This regex should be case-insensitive. It must match the following:\n",
    "\n",
    "'Alice eats apples.'\n",
    "\n",
    "'Bob pets cats.'\n",
    "\n",
    "'Carol throws baseballs.'\n",
    "\n",
    "'Alice throws Apples.'\n",
    "\n",
    "'BOB EATS CATS.'\n",
    "\n",
    "but not the following:\n",
    "\n",
    "'RoboCop eats apples.'\n",
    "\n",
    "'ALICE THROWS FOOTBALLS.'\n",
    "\n",
    "'Carol eats 7 cats.'"
   ]
  },
  {
   "cell_type": "code",
   "execution_count": null,
   "id": "491d1b2a",
   "metadata": {},
   "outputs": [],
   "source": []
  }
 ],
 "metadata": {
  "kernelspec": {
   "display_name": "Python 3 (ipykernel)",
   "language": "python",
   "name": "python3"
  },
  "language_info": {
   "codemirror_mode": {
    "name": "ipython",
    "version": 3
   },
   "file_extension": ".py",
   "mimetype": "text/x-python",
   "name": "python",
   "nbconvert_exporter": "python",
   "pygments_lexer": "ipython3",
   "version": "3.9.7"
  }
 },
 "nbformat": 4,
 "nbformat_minor": 5
}
