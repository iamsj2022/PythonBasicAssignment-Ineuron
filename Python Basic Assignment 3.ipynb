{
 "cells": [
  {
   "cell_type": "markdown",
   "id": "6a48ac8f",
   "metadata": {},
   "source": [
    "1. Why are functions advantageous to have in your programs?\n",
    "\n",
    "Answer: Functions reduce the need for duplicate code. This makes programs shorter, easier to read, and easier to update. In short, reduce code complexity.\n",
    "\n",
    "2. When does the code in a function run: when it's specified or when it's called?\n",
    "\n",
    "Answer: The code in a function executes when the function is called, not when the function is defined.\n",
    "\n",
    "3. What statement creates a function?\n",
    "\n",
    "Answer: The def statement defines (that is, creates) a function.\n",
    "\n",
    "4. What is the difference between a function and a function call?\n",
    "\n",
    "Answer: A function consists of the def statement and the code in its def clause.\n",
    "\n",
    "A function call is what moves the program execution into the function, and the function call evaluates to the function's return value.\n",
    "\n",
    "5. How many global scopes are there in a Python program? How many local scopes?\n",
    "\n",
    "Answer:There is one global scope, and a local scope is created whenever a function is called.\n",
    "\n",
    "6. What happens to variables in a local scope when the function call returns?\n",
    "\n",
    "Answer: When a function returns, the local scope is destroyed, and all the variables in it are forgotten.\n",
    "\n",
    "7. What is the concept of a return value? Is it possible to have a return value in an expression?\n",
    "\n",
    "Answer: A return value is the value that a function call evaluates to. Like any value, a return value can be used as part of an expression.\n",
    "\n",
    "8. If a function does not have a return statement, what is the return value of a call to that function?\n",
    "\n",
    "Answer: If there is no return statement for a function, its return value is None.\n",
    "\n",
    "9. How do you make a function variable refer to the global variable?\n",
    "\n",
    "Answer: A global statement will force a variable in a function to refer to the global variable.\n",
    "\n",
    "10. What is the data type of None?\n",
    "\n",
    "Answer: The data type of None is NoneType.\n",
    "\n",
    "11. What does the sentence import areallyourpetsnamederic do?\n",
    "\n",
    "Answer: if thre is a module named areallyourpetsnamederic existing in memory it will import it in this case as there is no module name areallyourpetsnamederic it will show Module Not Found Error. \"No module named 'areallyourpetsnamederic' \"\n",
    "\n",
    "12. If you had a bacon() feature in a spam module, what would you call it after importing spam?\n",
    "\n",
    "Answer: spam.bacon()\n",
    "\n",
    "13. What can you do to save a programme from crashing if it encounters an error?\n",
    "\n",
    "Answer: Error handling can be used to notify the user of why the error occurred and gracefully exit the process that caused the error.\n",
    "\n",
    "14. What is the purpose of the try clause? What is the purpose of the except clause?\n",
    "\n",
    "Answer: Try and Except statement is used to handle these errors within our code in Python. The try block is used to check some code for errors i.e the code inside the try block will execute when there is no error in the program. Whereas the code inside the except block will execute whenever the program encounters some error in the preceding try block."
   ]
  },
  {
   "cell_type": "code",
   "execution_count": 2,
   "id": "ef9c8e12",
   "metadata": {},
   "outputs": [
    {
     "name": "stdout",
     "output_type": "stream",
     "text": [
      "Enter value of a:4\n",
      "Enter value of b:2\n",
      "Yippie ! Your answer is : 2.0\n"
     ]
    }
   ],
   "source": [
    "def divide(x, y):\n",
    "    try:\n",
    "        result = x / y\n",
    "        print(\"Yippie ! Your answer is :\", result)\n",
    "    except ZeroDivisionError:\n",
    "        print(\"Sorry ! You are dividing by zero \") \n",
    "a = int(input(\"Enter value of a:\"))\n",
    "b = int(input(\"Enter value of b:\"))\n",
    "divide(a, b)"
   ]
  },
  {
   "cell_type": "code",
   "execution_count": null,
   "id": "040334ab",
   "metadata": {},
   "outputs": [],
   "source": []
  }
 ],
 "metadata": {
  "kernelspec": {
   "display_name": "Python 3 (ipykernel)",
   "language": "python",
   "name": "python3"
  },
  "language_info": {
   "codemirror_mode": {
    "name": "ipython",
    "version": 3
   },
   "file_extension": ".py",
   "mimetype": "text/x-python",
   "name": "python",
   "nbconvert_exporter": "python",
   "pygments_lexer": "ipython3",
   "version": "3.9.7"
  }
 },
 "nbformat": 4,
 "nbformat_minor": 5
}
